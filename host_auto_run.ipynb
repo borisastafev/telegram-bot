{
 "cells": [
  {
   "cell_type": "code",
   "execution_count": null,
   "id": "191b0996",
   "metadata": {},
   "outputs": [
    {
     "name": "stdout",
     "output_type": "stream",
     "text": [
      "лвл\n",
      "quality\n",
      "alpha\n"
     ]
    }
   ],
   "source": [
    "import telebot\n",
    "from mydata import token\n",
    "import os\n",
    "import pandas as pd\n",
    "\n",
    "\n",
    "bot = telebot.TeleBot(token)\n",
    "\n",
    "def get_data():\n",
    "    \n",
    "    @bot.message_handler(commands=['start'])\n",
    "    def start_message(message):\n",
    "        start = \"Введите название компании на английском (не тикер),акции которой вы хотите просмотреть. \\\n",
    "        Если компаний, подходящих по название несколько - то данные выведутся о каждой из них.\" \n",
    "        bot.send_message(message.chat.id, start) \n",
    "        \n",
    "    \n",
    "    @bot.message_handler(content_types=['text'])\n",
    "    def send_message(message):\n",
    "        bot.send_message(message.chat.id, '...попробуем что-нибудь найти')\n",
    "        name_stock = message.text.lower()\n",
    "        df = pd.read_csv('finanz_data')\n",
    "        count = 0\n",
    "\n",
    "        print(name_stock)\n",
    "        for row in range(len(df['Название ISIN'])):\n",
    "            if name_stock in df['Название ISIN'][row]:\n",
    "                count += 1\n",
    "                \n",
    "                name = df['urls'][row].split('/')[-1]\n",
    "                fig_adress=f'fig_png/{name}.png'\n",
    "                \n",
    "                    \n",
    " \n",
    "                url = df['urls'][row].replace('balans', 'profil-kompanii')\n",
    "                bot.send_message(message.chat.id, url)\n",
    "                bot.send_photo(message.chat.id, photo=open(fig_adress, 'rb'))\n",
    "\n",
    "            \n",
    "        if count == 0:\n",
    "             bot.send_message(message.chat.id, 'данная акция не входит в s&p 500')\n",
    "\n",
    "    bot.polling()\n",
    "    \n",
    "if __name__=='__main__':\n",
    "    get_data()"
   ]
  }
 ],
 "metadata": {
  "kernelspec": {
   "display_name": "Python 3",
   "language": "python",
   "name": "python3"
  },
  "language_info": {
   "codemirror_mode": {
    "name": "ipython",
    "version": 3
   },
   "file_extension": ".py",
   "mimetype": "text/x-python",
   "name": "python",
   "nbconvert_exporter": "python",
   "pygments_lexer": "ipython3",
   "version": "3.8.8"
  }
 },
 "nbformat": 4,
 "nbformat_minor": 5
}
